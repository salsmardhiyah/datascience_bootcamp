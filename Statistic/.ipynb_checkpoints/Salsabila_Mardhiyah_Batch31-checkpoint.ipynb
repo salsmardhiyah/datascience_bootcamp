{
 "cells": [
  {
   "cell_type": "code",
   "execution_count": 3,
   "id": "94398128-54f8-4473-b919-330fdacf5cba",
   "metadata": {},
   "outputs": [],
   "source": [
    "import pandas as pd\n",
    "import numpy as np\n",
    "import scipy.stats as st\n",
    "import statsmodels.stats.proportion as sp\n",
    "import matplotlib.pyplot as plt\n",
    "import seaborn as sns"
   ]
  },
  {
   "cell_type": "code",
   "execution_count": 4,
   "id": "e6a242ea-5da7-44c1-93bd-28cef2b83317",
   "metadata": {},
   "outputs": [
    {
     "data": {
      "text/html": [
       "<div>\n",
       "<style scoped>\n",
       "    .dataframe tbody tr th:only-of-type {\n",
       "        vertical-align: middle;\n",
       "    }\n",
       "\n",
       "    .dataframe tbody tr th {\n",
       "        vertical-align: top;\n",
       "    }\n",
       "\n",
       "    .dataframe thead th {\n",
       "        text-align: right;\n",
       "    }\n",
       "</style>\n",
       "<table border=\"1\" class=\"dataframe\">\n",
       "  <thead>\n",
       "    <tr style=\"text-align: right;\">\n",
       "      <th></th>\n",
       "      <th>Id</th>\n",
       "      <th>MSSubClass</th>\n",
       "      <th>MSZoning</th>\n",
       "      <th>LotFrontage</th>\n",
       "      <th>LotArea</th>\n",
       "      <th>Street</th>\n",
       "      <th>Alley</th>\n",
       "      <th>LotShape</th>\n",
       "      <th>LandContour</th>\n",
       "      <th>Utilities</th>\n",
       "      <th>...</th>\n",
       "      <th>PoolArea</th>\n",
       "      <th>PoolQC</th>\n",
       "      <th>Fence</th>\n",
       "      <th>MiscFeature</th>\n",
       "      <th>MiscVal</th>\n",
       "      <th>MoSold</th>\n",
       "      <th>YrSold</th>\n",
       "      <th>SaleType</th>\n",
       "      <th>SaleCondition</th>\n",
       "      <th>SalePrice</th>\n",
       "    </tr>\n",
       "  </thead>\n",
       "  <tbody>\n",
       "    <tr>\n",
       "      <th>771</th>\n",
       "      <td>772</td>\n",
       "      <td>20</td>\n",
       "      <td>RL</td>\n",
       "      <td>67.0</td>\n",
       "      <td>8877</td>\n",
       "      <td>Pave</td>\n",
       "      <td>NaN</td>\n",
       "      <td>Reg</td>\n",
       "      <td>Lvl</td>\n",
       "      <td>AllPub</td>\n",
       "      <td>...</td>\n",
       "      <td>0</td>\n",
       "      <td>NaN</td>\n",
       "      <td>NaN</td>\n",
       "      <td>NaN</td>\n",
       "      <td>0</td>\n",
       "      <td>4</td>\n",
       "      <td>2006</td>\n",
       "      <td>COD</td>\n",
       "      <td>Normal</td>\n",
       "      <td>102000</td>\n",
       "    </tr>\n",
       "    <tr>\n",
       "      <th>1346</th>\n",
       "      <td>1347</td>\n",
       "      <td>20</td>\n",
       "      <td>RL</td>\n",
       "      <td>NaN</td>\n",
       "      <td>20781</td>\n",
       "      <td>Pave</td>\n",
       "      <td>NaN</td>\n",
       "      <td>IR2</td>\n",
       "      <td>Lvl</td>\n",
       "      <td>AllPub</td>\n",
       "      <td>...</td>\n",
       "      <td>0</td>\n",
       "      <td>NaN</td>\n",
       "      <td>NaN</td>\n",
       "      <td>NaN</td>\n",
       "      <td>0</td>\n",
       "      <td>6</td>\n",
       "      <td>2006</td>\n",
       "      <td>WD</td>\n",
       "      <td>Normal</td>\n",
       "      <td>262500</td>\n",
       "    </tr>\n",
       "  </tbody>\n",
       "</table>\n",
       "<p>2 rows × 81 columns</p>\n",
       "</div>"
      ],
      "text/plain": [
       "        Id  MSSubClass MSZoning  LotFrontage  LotArea Street Alley LotShape  \\\n",
       "771    772          20       RL         67.0     8877   Pave   NaN      Reg   \n",
       "1346  1347          20       RL          NaN    20781   Pave   NaN      IR2   \n",
       "\n",
       "     LandContour Utilities  ... PoolArea PoolQC Fence MiscFeature MiscVal  \\\n",
       "771          Lvl    AllPub  ...        0    NaN   NaN         NaN       0   \n",
       "1346         Lvl    AllPub  ...        0    NaN   NaN         NaN       0   \n",
       "\n",
       "     MoSold YrSold  SaleType  SaleCondition  SalePrice  \n",
       "771       4   2006       COD         Normal     102000  \n",
       "1346      6   2006        WD         Normal     262500  \n",
       "\n",
       "[2 rows x 81 columns]"
      ]
     },
     "execution_count": 4,
     "metadata": {},
     "output_type": "execute_result"
    }
   ],
   "source": [
    "# melakukan import file csv\n",
    "df1 = pd.read_csv('/Users/salsa/Data Science/DS-31/Week 7/HW/house-prices-advanced-regression-techniques/train.csv')\n",
    "\n",
    "# melihat data\n",
    "df1.sample(2)"
   ]
  },
  {
   "cell_type": "code",
   "execution_count": 5,
   "id": "11c5b993",
   "metadata": {},
   "outputs": [
    {
     "data": {
      "text/plain": [
       "False"
      ]
     },
     "execution_count": 5,
     "metadata": {},
     "output_type": "execute_result"
    }
   ],
   "source": [
    "# melihat apakah terdapat data duplikat\n",
    "df1.duplicated().any()"
   ]
  },
  {
   "cell_type": "markdown",
   "id": "ecfa0061-e243-4a60-a782-fb2122a5f528",
   "metadata": {},
   "source": [
    "# 1. \n",
    "Tunjukkan statistika deskriptif untuk variabel harga rumah\n",
    "(Column Name : SalePrice)!\n",
    "\n",
    "Ceritakan kepada tim bisnis apa makna dari nilai nilai\n",
    "tersebut!\n",
    "\n",
    "Ekspektasi output :\n",
    "* ukuran pemusatan (4 poin)\n",
    "* ukuran penyebaran (4 poin)\n",
    "* Interpretasi (2 poin)"
   ]
  },
  {
   "cell_type": "code",
   "execution_count": 6,
   "id": "55eee1f6-54af-4ff7-8625-c80bd20990e4",
   "metadata": {},
   "outputs": [
    {
     "name": "stdout",
     "output_type": "stream",
     "text": [
      "Ukuran Pemusatan dari variabel harga rumah adalah sebagai berikut:\n",
      "Mean        :180921.2\n",
      "Median      :163000.0\n",
      "Mode        :140000\n",
      "Quartile 1  :129975.0\n",
      "Quartile 2  :163000.0\n",
      "Quartile 3  :214000.0\n",
      "Percentile 90   :278000.0\n"
     ]
    }
   ],
   "source": [
    "# melihat statistik deskriptif untuk ukuran pemusatan kolom SalePrice\n",
    "\n",
    "mean, median, Q1, Q3, P90, min, max = df1['SalePrice'].describe([.25, .5, .75, .9]).transpose()[['mean', '50%', '25%', '75%', '90%', 'min', 'max']]\n",
    "mode = df1['SalePrice'].mode()[0]\n",
    "\n",
    "print(f'Ukuran Pemusatan dari variabel harga rumah adalah sebagai berikut:')\n",
    "print(f'Mean        :{round(mean,2)}')\n",
    "print(f'Median      :{median}')\n",
    "print(f'Mode        :{mode}')\n",
    "print(f'Quartile 1  :{Q1}')\n",
    "print(f'Quartile 2  :{median}')\n",
    "print(f'Quartile 3  :{Q3}')\n",
    "print(f'Percentile 90   :{P90}')\n"
   ]
  },
  {
   "cell_type": "code",
   "execution_count": 7,
   "id": "7f604e3a",
   "metadata": {},
   "outputs": [
    {
     "name": "stdout",
     "output_type": "stream",
     "text": [
      "Ukuran Penyebaran dari variabel harga rumah adalah sebagai berikut:\n",
      "Range       :720100.0\n",
      "IQR         :84025.0\n",
      "Variance    :6311111264.3\n",
      "St.Dev      :79442.5\n"
     ]
    }
   ],
   "source": [
    "#  melihat statistik deskriptif untuk ukuran penyebaran kolom SalePrice\n",
    "\n",
    "IQR = Q3-Q1\n",
    "\n",
    "print(f'Ukuran Penyebaran dari variabel harga rumah adalah sebagai berikut:')\n",
    "print(f'Range       :{max - min}')\n",
    "print(f'IQR         :{IQR}')\n",
    "print(f'Variance    :{round(df1.SalePrice.var(), 2)}')\n",
    "print(f'St.Dev      :{round(df1.SalePrice.std(), 2)}')\n"
   ]
  },
  {
   "cell_type": "markdown",
   "id": "12cfea2d",
   "metadata": {},
   "source": [
    "Interpretasi:\n",
    "* Nilai rata-rata data harga rumah lebih besar dibandingkan dengan median atau nilai tengahnya. Hal ini dapat disebabkan oleh adanya data outlier atau dapat dikatakan bahwa terdapat beberapa harga rumah yang sangat tinggi.\n",
    "\n",
    "* Berdasarkan nilai kuartil 3 yang didapat, dapat disimpulkan bahwa sebanyak 3/4 rumah pada data ini memiliki harga di bawah 214 ribu dollar dan 1/4 lainnya memiliki harga di atas 214 ribu dollar\n",
    "\n",
    "* Sebaran harga rumah pada data ini sangat beragam dan jauh dari harga rata-rata. Hal ini ditunjukkan oleh nilai varians yang sangat besar."
   ]
  },
  {
   "cell_type": "markdown",
   "id": "1c181ed3",
   "metadata": {},
   "source": [
    "# 2. \n",
    "Tunjukkan statistika deskriptif untuk variabel harga rumah  (Column Name : SalePrice) setiap tahunnya (Column Name : YrSold)!\n",
    "\n",
    "Secara deskriptif jelaskan apakah ada perbedaan setiap tahunnya atau tidak?\n",
    "\n",
    "Ekspektasi output:\n",
    "* ukuran pemusatan (10 poin)\n",
    "* ukuran penyebaran (10 poin)\n",
    "* Interpretasi (5 poin)"
   ]
  },
  {
   "cell_type": "code",
   "execution_count": 41,
   "id": "ee9e73a1",
   "metadata": {},
   "outputs": [
    {
     "name": "stdout",
     "output_type": "stream",
     "text": [
      "Berikut merupakan statistik deskriptif untuk ukuran pemusatan kolom SalePrice setiap tahunnya:\n"
     ]
    },
    {
     "data": {
      "text/html": [
       "<div>\n",
       "<style scoped>\n",
       "    .dataframe tbody tr th:only-of-type {\n",
       "        vertical-align: middle;\n",
       "    }\n",
       "\n",
       "    .dataframe tbody tr th {\n",
       "        vertical-align: top;\n",
       "    }\n",
       "\n",
       "    .dataframe thead th {\n",
       "        text-align: right;\n",
       "    }\n",
       "</style>\n",
       "<table border=\"1\" class=\"dataframe\">\n",
       "  <thead>\n",
       "    <tr style=\"text-align: right;\">\n",
       "      <th></th>\n",
       "      <th>Mean</th>\n",
       "      <th>Min</th>\n",
       "      <th>Quartile1</th>\n",
       "      <th>Median</th>\n",
       "      <th>Quartile3</th>\n",
       "      <th>Max</th>\n",
       "    </tr>\n",
       "    <tr>\n",
       "      <th>YrSold</th>\n",
       "      <th></th>\n",
       "      <th></th>\n",
       "      <th></th>\n",
       "      <th></th>\n",
       "      <th></th>\n",
       "      <th></th>\n",
       "    </tr>\n",
       "  </thead>\n",
       "  <tbody>\n",
       "    <tr>\n",
       "      <th>2006</th>\n",
       "      <td>182549.458599</td>\n",
       "      <td>35311.0</td>\n",
       "      <td>131375.0</td>\n",
       "      <td>163995.0</td>\n",
       "      <td>218782.5</td>\n",
       "      <td>625000.0</td>\n",
       "    </tr>\n",
       "    <tr>\n",
       "      <th>2007</th>\n",
       "      <td>186063.151976</td>\n",
       "      <td>39300.0</td>\n",
       "      <td>129900.0</td>\n",
       "      <td>167000.0</td>\n",
       "      <td>219500.0</td>\n",
       "      <td>755000.0</td>\n",
       "    </tr>\n",
       "    <tr>\n",
       "      <th>2008</th>\n",
       "      <td>177360.838816</td>\n",
       "      <td>40000.0</td>\n",
       "      <td>131250.0</td>\n",
       "      <td>164000.0</td>\n",
       "      <td>207000.0</td>\n",
       "      <td>446261.0</td>\n",
       "    </tr>\n",
       "    <tr>\n",
       "      <th>2009</th>\n",
       "      <td>179432.103550</td>\n",
       "      <td>34900.0</td>\n",
       "      <td>125250.0</td>\n",
       "      <td>162000.0</td>\n",
       "      <td>212750.0</td>\n",
       "      <td>582933.0</td>\n",
       "    </tr>\n",
       "    <tr>\n",
       "      <th>2010</th>\n",
       "      <td>177393.674286</td>\n",
       "      <td>55000.0</td>\n",
       "      <td>128100.0</td>\n",
       "      <td>155000.0</td>\n",
       "      <td>213250.0</td>\n",
       "      <td>611657.0</td>\n",
       "    </tr>\n",
       "  </tbody>\n",
       "</table>\n",
       "</div>"
      ],
      "text/plain": [
       "                 Mean      Min  Quartile1    Median  Quartile3       Max\n",
       "YrSold                                                                  \n",
       "2006    182549.458599  35311.0   131375.0  163995.0   218782.5  625000.0\n",
       "2007    186063.151976  39300.0   129900.0  167000.0   219500.0  755000.0\n",
       "2008    177360.838816  40000.0   131250.0  164000.0   207000.0  446261.0\n",
       "2009    179432.103550  34900.0   125250.0  162000.0   212750.0  582933.0\n",
       "2010    177393.674286  55000.0   128100.0  155000.0   213250.0  611657.0"
      ]
     },
     "execution_count": 41,
     "metadata": {},
     "output_type": "execute_result"
    }
   ],
   "source": [
    "# melihat statistik deskriptif untuk ukuran pemusatan kolom SalePrice tiap tahun\n",
    "df1_year = df1.groupby(['YrSold'])['SalePrice'].describe()\n",
    "df1_year.columns = ['Count', 'Mean', 'StDev', 'Min', 'Quartile1', 'Median', 'Quartile3', 'Max']\n",
    "\n",
    "print('Berikut merupakan statistik deskriptif untuk ukuran pemusatan kolom SalePrice setiap tahunnya:')\n",
    "df1_year[['Mean','Min','Quartile1','Median','Quartile3','Max']]\n"
   ]
  },
  {
   "cell_type": "code",
   "execution_count": 40,
   "id": "83617716",
   "metadata": {},
   "outputs": [
    {
     "name": "stdout",
     "output_type": "stream",
     "text": [
      "Berikut merupakan statistik deskriptif untuk ukuran penyebaran kolom SalePrice setiap tahunnya:\n"
     ]
    },
    {
     "data": {
      "text/html": [
       "<div>\n",
       "<style scoped>\n",
       "    .dataframe tbody tr th:only-of-type {\n",
       "        vertical-align: middle;\n",
       "    }\n",
       "\n",
       "    .dataframe tbody tr th {\n",
       "        vertical-align: top;\n",
       "    }\n",
       "\n",
       "    .dataframe thead th {\n",
       "        text-align: right;\n",
       "    }\n",
       "</style>\n",
       "<table border=\"1\" class=\"dataframe\">\n",
       "  <thead>\n",
       "    <tr style=\"text-align: right;\">\n",
       "      <th></th>\n",
       "      <th>Variance</th>\n",
       "      <th>Range</th>\n",
       "      <th>StDev</th>\n",
       "      <th>IQR</th>\n",
       "    </tr>\n",
       "    <tr>\n",
       "      <th>YrSold</th>\n",
       "      <th></th>\n",
       "      <th></th>\n",
       "      <th></th>\n",
       "      <th></th>\n",
       "    </tr>\n",
       "  </thead>\n",
       "  <tbody>\n",
       "    <tr>\n",
       "      <th>2006</th>\n",
       "      <td>6.308623e+09</td>\n",
       "      <td>589689.0</td>\n",
       "      <td>79426.838855</td>\n",
       "      <td>87407.5</td>\n",
       "    </tr>\n",
       "    <tr>\n",
       "      <th>2007</th>\n",
       "      <td>7.356179e+09</td>\n",
       "      <td>715700.0</td>\n",
       "      <td>85768.171410</td>\n",
       "      <td>89600.0</td>\n",
       "    </tr>\n",
       "    <tr>\n",
       "      <th>2008</th>\n",
       "      <td>4.863055e+09</td>\n",
       "      <td>406261.0</td>\n",
       "      <td>69735.610685</td>\n",
       "      <td>75750.0</td>\n",
       "    </tr>\n",
       "    <tr>\n",
       "      <th>2009</th>\n",
       "      <td>6.541451e+09</td>\n",
       "      <td>548033.0</td>\n",
       "      <td>80879.237311</td>\n",
       "      <td>87500.0</td>\n",
       "    </tr>\n",
       "    <tr>\n",
       "      <th>2010</th>\n",
       "      <td>6.472408e+09</td>\n",
       "      <td>556657.0</td>\n",
       "      <td>80451.280085</td>\n",
       "      <td>85150.0</td>\n",
       "    </tr>\n",
       "  </tbody>\n",
       "</table>\n",
       "</div>"
      ],
      "text/plain": [
       "            Variance     Range         StDev      IQR\n",
       "YrSold                                               \n",
       "2006    6.308623e+09  589689.0  79426.838855  87407.5\n",
       "2007    7.356179e+09  715700.0  85768.171410  89600.0\n",
       "2008    4.863055e+09  406261.0  69735.610685  75750.0\n",
       "2009    6.541451e+09  548033.0  80879.237311  87500.0\n",
       "2010    6.472408e+09  556657.0  80451.280085  85150.0"
      ]
     },
     "execution_count": 40,
     "metadata": {},
     "output_type": "execute_result"
    }
   ],
   "source": [
    "#  menghitung nilai varians harga rumah tiap tahun\n",
    "df1_year['Variance'] = df1.groupby(['YrSold']).agg({'SalePrice' : ['var']})\n",
    "\n",
    "#  menghitung nilai standar deviasi harga rumah tiap tahun\n",
    "df1_year['StDev'] = df1.groupby(['YrSold']).agg({'SalePrice' : ['std']})\n",
    "\n",
    "#  menghitung nilai minimum harga rumah tiap tahun\n",
    "df1_year['Range'] = df1_year['Max'] - df1_year['Min']\n",
    "\n",
    "#  menghitung nilai interquartil harga rumah tiap tahun\n",
    "df1_year['IQR'] = df1_year['Quartile3'] - df1_year['Quartile1']\n",
    "\n",
    "# melihat statistik deskriptif untuk ukuran penyebaran kolom SalePrice tiap tahun\n",
    "print('Berikut merupakan statistik deskriptif untuk ukuran penyebaran kolom SalePrice setiap tahunnya:')\n",
    "df1_year[['Variance', 'Range', 'StDev', 'IQR']]\n"
   ]
  },
  {
   "cell_type": "markdown",
   "id": "1f42c0b2",
   "metadata": {},
   "source": [
    "Interpretasi: \n",
    "\n",
    "* Nilai rata-rata data harga rumah setiap tahunnya lebih besar dibandingkan dengan median atau nilai tengahnya. <br>\n",
    "Hal ini dapat disebabkan oleh adanya data outlier atau dapat dikatakan bahwa setiap tahunnya terdapat beberapa harga rumah yang sangat tinggi. <br>\n",
    "Harga rumah yang terlampau tinggi ini perlu dikonfirmasi apakah terjadi karena terdapat kesalahan penginputan data atau benar adanya.\n",
    "\n",
    "* Nilai rata-rata yang lebih besar dari median juga menunjukkan bahwa distribusi harga rumah tiap tahunnya memiliki distribusi yang melenceng ke kanan (positively skewed distribution)\n",
    "\n",
    "* Nilai median harga rumah pada tahun 2007 mengalami kenaikan dari tahun sebelumnya sedangkan nilai median pada tahun 2008 hingga 2010 menurun dengan stabil, adapun namun nilai rata-rata harga rumah tetap fluktuatif tiap tahunnya.\n",
    "\n",
    "* Nilai range harga rumah pada tahun 2007 memiliki range harga yang paling besar dari tahun 2006 sampai 2010. <br>\n",
    "Hal ini disebabkan oleh harga rumah paling tinggi pada tahun tersebut yaitu seharga 755 ribu dollar yang juga menjadi harga rumah paling tinggi pada keseluruhan data."
   ]
  },
  {
   "cell_type": "markdown",
   "id": "76064af2",
   "metadata": {},
   "source": [
    "# 3. \n",
    "Bagaimana distribusi harga rumah tersebut. \n",
    "\n",
    "Gunakan histogram plot tidak terbatas hanya histogram saja. \n",
    "\n",
    "Jelaskan sebaiknya untuk analisa apakah lebih baik menggunakan mean atau menggunakan median? Beserta alasannya (Column Name : SalePrice)\n",
    "\n",
    "Ceritakan analisa tersebut dengan sudut pandang statistika. \n",
    "Buatlah tim bisnis paham maksud dari grafik histogram tersebut.\n",
    "\n",
    "Ekspektasi :\n",
    "* Grafik Histogram (8 poin)\n",
    "* Analisa (12 poin)\n",
    "* Interpretasi (5 poin)"
   ]
  },
  {
   "cell_type": "code",
   "execution_count": null,
   "id": "9de2e8f8",
   "metadata": {},
   "outputs": [
    {
     "data": {
      "image/png": "[encoded data removed]",
      "text/plain": [
       "<Figure size 640x480 with 1 Axes>"
      ]
     },
     "metadata": {},
     "output_type": "display_data"
    }
   ],
   "source": [
    "# grafik histogram distribusi harga rumah\n",
    "plt.hist(df1.SalePrice)\n",
    "plt.show()"
   ]
  },
  {
   "cell_type": "code",
   "execution_count": null,
   "id": "b3bda640",
   "metadata": {},
   "outputs": [
    {
     "data": {
      "image/png": "[encoded data removed]",
      "text/plain": [
       "<Figure size 700x200 with 1 Axes>"
      ]
     },
     "metadata": {},
     "output_type": "display_data"
    }
   ],
   "source": [
    "# grafik boxplot harga rumah\n",
    "plt.figure(figsize=(7,2))\n",
    "sns.boxplot(x='SalePrice',data=df1)\n",
    "plt.show()"
   ]
  },
  {
   "cell_type": "code",
   "execution_count": null,
   "id": "c82139f6",
   "metadata": {},
   "outputs": [
    {
     "name": "stderr",
     "output_type": "stream",
     "text": [
      "/var/folders/h_/t8q0dbkj58q06lf9n79sjt2r0000gn/T/ipykernel_99743/1204490983.py:2: UserWarning: \n",
      "\n",
      "`distplot` is a deprecated function and will be removed in seaborn v0.14.0.\n",
      "\n",
      "Please adapt your code to use either `displot` (a figure-level function with\n",
      "similar flexibility) or `histplot` (an axes-level function for histograms).\n",
      "\n",
      "For a guide to updating your code to use the new functions, please see\n",
      "https://gist.github.com/mwaskom/de44147ed2974457ad6372750bbe5751\n",
      "\n",
      "  sns.distplot(df1['SalePrice'])\n"
     ]
    },
    {
     "data": {
      "image/png": "[encoded data removed]",
      "text/plain": [
       "<Figure size 640x480 with 1 Axes>"
      ]
     },
     "metadata": {},
     "output_type": "display_data"
    }
   ],
   "source": [
    "# grafik distribusi harga rumah\n",
    "sns.distplot(df1['SalePrice'])\n",
    "plt.show()"
   ]
  },
  {
   "cell_type": "markdown",
   "id": "70517e80",
   "metadata": {},
   "source": [
    "Interpretasi dan analisa:<br>\n",
    "* Dari grafik distribusi dan histogram di atas dapat disimpulkan bahwa data harga rumah memiliki jenis distribusi  melenceng ke kanan (positively skewed)\n",
    "\n",
    "* Yangmana nilai median dari data lebih besar dibandingkan dengan nilai mean/rata-rata harga rumah\n",
    "\n",
    "* Dapat dilihat dari grafik box plot bahwa nilai outlier teridentifikasi di sebelah kanan atau terdapat beberapa data yang memiliki nilai harga rumah yang sangat tinggi\n",
    "\n",
    "Tim bisnis dapat menggunakan nilai median untuk melakukan analisa pada data dengan tipe distribusi positively skewed. <br>\n",
    "Hal ini disebabkan banyaknya nilai yang sangat tinggi (outlier) pada data sehingga lebih tepat untuk menggunakan median yang memiliki karakteristik relatif tidak terpegaruh (robust) dari data outlier.\n"
   ]
  },
  {
   "cell_type": "markdown",
   "id": "b4b08ce4",
   "metadata": {},
   "source": [
    "# 4. \n",
    "Karena ada pernyataan bahwa setiap tahunnya harga rumah itu pasti naik. (tahun terjual : YrSold, harga rumah : SalePrice) \n",
    "\n",
    "Silahkan teman-teman buktikan dengan data yang ada menggunakan ilmu statistika? (Tidak terbatas pada pengujian apapun)\n",
    "\n",
    "Ekspektasi :\n",
    "* Penentuan hipotesis (5 poin)\n",
    "* Pengujian yang digunakan (5 poin)\n",
    "* Hasil pengujian hipotesis (10 poin)\n",
    "* Kesimpulan dan interpretasi (10 poin)"
   ]
  },
  {
   "cell_type": "code",
   "execution_count": null,
   "id": "e69c3301",
   "metadata": {},
   "outputs": [
    {
     "data": {
      "text/html": [
       "<div>\n",
       "<style scoped>\n",
       "    .dataframe tbody tr th:only-of-type {\n",
       "        vertical-align: middle;\n",
       "    }\n",
       "\n",
       "    .dataframe tbody tr th {\n",
       "        vertical-align: top;\n",
       "    }\n",
       "\n",
       "    .dataframe thead th {\n",
       "        text-align: right;\n",
       "    }\n",
       "</style>\n",
       "<table border=\"1\" class=\"dataframe\">\n",
       "  <thead>\n",
       "    <tr style=\"text-align: right;\">\n",
       "      <th></th>\n",
       "      <th>Id</th>\n",
       "      <th>MSSubClass</th>\n",
       "      <th>MSZoning</th>\n",
       "      <th>LotFrontage</th>\n",
       "      <th>LotArea</th>\n",
       "      <th>Street</th>\n",
       "      <th>Alley</th>\n",
       "      <th>LotShape</th>\n",
       "      <th>LandContour</th>\n",
       "      <th>Utilities</th>\n",
       "      <th>...</th>\n",
       "      <th>PoolArea</th>\n",
       "      <th>PoolQC</th>\n",
       "      <th>Fence</th>\n",
       "      <th>MiscFeature</th>\n",
       "      <th>MiscVal</th>\n",
       "      <th>MoSold</th>\n",
       "      <th>YrSold</th>\n",
       "      <th>SaleType</th>\n",
       "      <th>SaleCondition</th>\n",
       "      <th>SalePrice</th>\n",
       "    </tr>\n",
       "  </thead>\n",
       "  <tbody>\n",
       "    <tr>\n",
       "      <th>785</th>\n",
       "      <td>786</td>\n",
       "      <td>20</td>\n",
       "      <td>RL</td>\n",
       "      <td>NaN</td>\n",
       "      <td>9790</td>\n",
       "      <td>Pave</td>\n",
       "      <td>NaN</td>\n",
       "      <td>Reg</td>\n",
       "      <td>Lvl</td>\n",
       "      <td>AllPub</td>\n",
       "      <td>...</td>\n",
       "      <td>0</td>\n",
       "      <td>NaN</td>\n",
       "      <td>NaN</td>\n",
       "      <td>NaN</td>\n",
       "      <td>0</td>\n",
       "      <td>9</td>\n",
       "      <td>2009</td>\n",
       "      <td>WD</td>\n",
       "      <td>Normal</td>\n",
       "      <td>161500</td>\n",
       "    </tr>\n",
       "    <tr>\n",
       "      <th>520</th>\n",
       "      <td>521</td>\n",
       "      <td>190</td>\n",
       "      <td>RL</td>\n",
       "      <td>60.0</td>\n",
       "      <td>10800</td>\n",
       "      <td>Pave</td>\n",
       "      <td>Grvl</td>\n",
       "      <td>Reg</td>\n",
       "      <td>Lvl</td>\n",
       "      <td>AllPub</td>\n",
       "      <td>...</td>\n",
       "      <td>0</td>\n",
       "      <td>NaN</td>\n",
       "      <td>NaN</td>\n",
       "      <td>NaN</td>\n",
       "      <td>0</td>\n",
       "      <td>8</td>\n",
       "      <td>2008</td>\n",
       "      <td>WD</td>\n",
       "      <td>Normal</td>\n",
       "      <td>106250</td>\n",
       "    </tr>\n",
       "  </tbody>\n",
       "</table>\n",
       "<p>2 rows × 81 columns</p>\n",
       "</div>"
      ],
      "text/plain": [
       "      Id  MSSubClass MSZoning  LotFrontage  LotArea Street Alley LotShape  \\\n",
       "785  786          20       RL          NaN     9790   Pave   NaN      Reg   \n",
       "520  521         190       RL         60.0    10800   Pave  Grvl      Reg   \n",
       "\n",
       "    LandContour Utilities  ... PoolArea PoolQC Fence MiscFeature MiscVal  \\\n",
       "785         Lvl    AllPub  ...        0    NaN   NaN         NaN       0   \n",
       "520         Lvl    AllPub  ...        0    NaN   NaN         NaN       0   \n",
       "\n",
       "    MoSold YrSold  SaleType  SaleCondition  SalePrice  \n",
       "785      9   2009        WD         Normal     161500  \n",
       "520      8   2008        WD         Normal     106250  \n",
       "\n",
       "[2 rows x 81 columns]"
      ]
     },
     "execution_count": 151,
     "metadata": {},
     "output_type": "execute_result"
    }
   ],
   "source": [
    "# melakukan import file csv\n",
    "df4 = pd.read_csv('/Users/salsa/Data Science/DS-31/Week 7/HW/house-prices-advanced-regression-techniques/train.csv')\n",
    "\n",
    "# melihat data\n",
    "df4.sample(2)"
   ]
  },
  {
   "cell_type": "code",
   "execution_count": null,
   "id": "7696ce21",
   "metadata": {},
   "outputs": [
    {
     "data": {
      "text/plain": [
       "YrSold\n",
       "2006    182549.458599\n",
       "2007    186063.151976\n",
       "2008    177360.838816\n",
       "2009    179432.103550\n",
       "2010    177393.674286\n",
       "Name: SalePrice, dtype: float64"
      ]
     },
     "execution_count": 169,
     "metadata": {},
     "output_type": "execute_result"
    }
   ],
   "source": [
    "# melihat statistik harga rumah pada masing-masing tahun\n",
    "df4.groupby('YrSold')['SalePrice'].mean()"
   ]
  },
  {
   "cell_type": "code",
   "execution_count": null,
   "id": "9bde740c",
   "metadata": {},
   "outputs": [
    {
     "data": {
      "text/plain": [
       "YrSold\n",
       "2006    163995.0\n",
       "2007    167000.0\n",
       "2008    164000.0\n",
       "2009    162000.0\n",
       "2010    155000.0\n",
       "Name: SalePrice, dtype: float64"
      ]
     },
     "execution_count": 204,
     "metadata": {},
     "output_type": "execute_result"
    }
   ],
   "source": [
    "# melihat statistik harga rumah pada masing-masing tahun\n",
    "df4.groupby('YrSold')['SalePrice'].median()"
   ]
  },
  {
   "cell_type": "code",
   "execution_count": null,
   "id": "e945811c",
   "metadata": {},
   "outputs": [],
   "source": [
    "# membuat data frame masing-masing tahun\n",
    "df_2006 = df4[df4['YrSold'] == 2006]\n",
    "df_2007 = df4[df4['YrSold'] == 2007]\n",
    "df_2008 = df4[df4['YrSold'] == 2008]\n",
    "df_2009 = df4[df4['YrSold'] == 2009]\n",
    "df_2010 = df4[df4['YrSold'] == 2010]"
   ]
  },
  {
   "cell_type": "code",
   "execution_count": null,
   "id": "df427fd4",
   "metadata": {},
   "outputs": [
    {
     "name": "stderr",
     "output_type": "stream",
     "text": [
      "/var/folders/h_/t8q0dbkj58q06lf9n79sjt2r0000gn/T/ipykernel_99743/3136525704.py:3: UserWarning: \n",
      "\n",
      "`distplot` is a deprecated function and will be removed in seaborn v0.14.0.\n",
      "\n",
      "Please adapt your code to use either `displot` (a figure-level function with\n",
      "similar flexibility) or `histplot` (an axes-level function for histograms).\n",
      "\n",
      "For a guide to updating your code to use the new functions, please see\n",
      "https://gist.github.com/mwaskom/de44147ed2974457ad6372750bbe5751\n",
      "\n",
      "  sns.distplot(df_2006['SalePrice'],label='2006')\n",
      "/var/folders/h_/t8q0dbkj58q06lf9n79sjt2r0000gn/T/ipykernel_99743/3136525704.py:4: UserWarning: \n",
      "\n",
      "`distplot` is a deprecated function and will be removed in seaborn v0.14.0.\n",
      "\n",
      "Please adapt your code to use either `displot` (a figure-level function with\n",
      "similar flexibility) or `histplot` (an axes-level function for histograms).\n",
      "\n",
      "For a guide to updating your code to use the new functions, please see\n",
      "https://gist.github.com/mwaskom/de44147ed2974457ad6372750bbe5751\n",
      "\n",
      "  sns.distplot(df_2007['SalePrice'],label='2007')\n",
      "/var/folders/h_/t8q0dbkj58q06lf9n79sjt2r0000gn/T/ipykernel_99743/3136525704.py:5: UserWarning: \n",
      "\n",
      "`distplot` is a deprecated function and will be removed in seaborn v0.14.0.\n",
      "\n",
      "Please adapt your code to use either `displot` (a figure-level function with\n",
      "similar flexibility) or `histplot` (an axes-level function for histograms).\n",
      "\n",
      "For a guide to updating your code to use the new functions, please see\n",
      "https://gist.github.com/mwaskom/de44147ed2974457ad6372750bbe5751\n",
      "\n",
      "  sns.distplot(df_2008['SalePrice'],label='2008')\n",
      "/var/folders/h_/t8q0dbkj58q06lf9n79sjt2r0000gn/T/ipykernel_99743/3136525704.py:6: UserWarning: \n",
      "\n",
      "`distplot` is a deprecated function and will be removed in seaborn v0.14.0.\n",
      "\n",
      "Please adapt your code to use either `displot` (a figure-level function with\n",
      "similar flexibility) or `histplot` (an axes-level function for histograms).\n",
      "\n",
      "For a guide to updating your code to use the new functions, please see\n",
      "https://gist.github.com/mwaskom/de44147ed2974457ad6372750bbe5751\n",
      "\n",
      "  sns.distplot(df_2009['SalePrice'],label='2009')\n",
      "/var/folders/h_/t8q0dbkj58q06lf9n79sjt2r0000gn/T/ipykernel_99743/3136525704.py:7: UserWarning: \n",
      "\n",
      "`distplot` is a deprecated function and will be removed in seaborn v0.14.0.\n",
      "\n",
      "Please adapt your code to use either `displot` (a figure-level function with\n",
      "similar flexibility) or `histplot` (an axes-level function for histograms).\n",
      "\n",
      "For a guide to updating your code to use the new functions, please see\n",
      "https://gist.github.com/mwaskom/de44147ed2974457ad6372750bbe5751\n",
      "\n",
      "  sns.distplot(df_2010['SalePrice'],label='2010')\n"
     ]
    },
    {
     "data": {
      "image/png": "[encoded data removed]",
      "text/plain": [
       "<Figure size 1000x700 with 1 Axes>"
      ]
     },
     "metadata": {},
     "output_type": "display_data"
    }
   ],
   "source": [
    "# melihat grafik distribusi harga rumah masing-masinng tahun\n",
    "plt.figure(figsize = (10,7))\n",
    "sns.distplot(df_2006['SalePrice'],label='2006')\n",
    "sns.distplot(df_2007['SalePrice'],label='2007')\n",
    "sns.distplot(df_2008['SalePrice'],label='2008')\n",
    "sns.distplot(df_2009['SalePrice'],label='2009')\n",
    "sns.distplot(df_2010['SalePrice'],label='2010')\n",
    "plt.legend()\n",
    "plt.show()"
   ]
  },
  {
   "cell_type": "markdown",
   "id": "57626c6b",
   "metadata": {},
   "source": [
    "Untuk melakukan beberapa uji statistik, pengujian normalitas diperlukan untuk memenuhi asumsi dari uji tersebut. Jika asumsi tersebut tidak dipenuhi maka kemungkinan kesimpulan yang akan ditarik menjadi tidak akurat. Namun, untuk menyimpulkan distribusi data sebaiknya tidak hanya mengandalkan metode grafis seperti histogram atau plot distribusi. Juga perlu untuk memasukkan hasil dari uji normalitas.\n",
    "\n",
    "Hipotesis untuk uji normalitas Shapiro-Wilk :\n",
    "\n",
    "* Hipotesis Null (H0): Data memiliki distribusi normal\n",
    "* Hipotesis Alternatif (H1): Data tidak memiliki distribusi normal\n",
    "\n",
    "Jika p-value kurang dari alfa (0.05) maka hipotesis null ditolak dan cukup bukti untuk menyatakan bahwa distribusi data yang diuji tidak normal. <br>\n",
    "Jika p-value lebih besar dari alfa (0.05) maka hipotesis null tidak dapat ditolak dan tidak cukup bukti untuk meyatakan bahwa distribusi data yang diuji tidak normal.\n"
   ]
  },
  {
   "cell_type": "code",
   "execution_count": null,
   "id": "9229c068",
   "metadata": {},
   "outputs": [
    {
     "name": "stdout",
     "output_type": "stream",
     "text": [
      "ShapiroResult(statistic=0.8692121505737305, pvalue=1.161968585010277e-15)\n",
      "ShapiroResult(statistic=0.8200357556343079, pvalue=7.432812856842109e-19)\n",
      "ShapiroResult(statistic=0.9210080504417419, pvalue=1.3821749300646502e-11)\n",
      "ShapiroResult(statistic=0.8847770690917969, pvalue=2.9512387593287745e-15)\n",
      "ShapiroResult(statistic=0.8537363409996033, pvalue=5.995591609991857e-12)\n"
     ]
    }
   ],
   "source": [
    "# melakukan uji normalitas data harga rumah per tahun\n",
    "SW_06 = st.shapiro(df_2006['SalePrice'])\n",
    "SW_07 = st.shapiro(df_2007['SalePrice'])\n",
    "SW_08 = st.shapiro(df_2008['SalePrice'])\n",
    "SW_09 = st.shapiro(df_2009['SalePrice'])\n",
    "SW_10 = st.shapiro(df_2010['SalePrice'])\n",
    "\n",
    "print(SW_06)\n",
    "print(SW_07)\n",
    "print(SW_08)\n",
    "print(SW_09)\n",
    "print(SW_10)"
   ]
  },
  {
   "cell_type": "markdown",
   "id": "86acd5cc",
   "metadata": {},
   "source": [
    "Semua data harga rumah tiap tahun memiliki nilai p-value kurang dari 0.05 maka hipotesis null ditolak dan cukup bukti untuk menyatakan bahwa distribusi data yang diuji tidak normal. <br>\n",
    "Sehingga dapat disimpulkan semua data tidak memiliki distribusi normal."
   ]
  },
  {
   "cell_type": "markdown",
   "id": "bdbf2c76",
   "metadata": {},
   "source": [
    "Untuk menguji apakah terdapat perbedaan yang signifikan terhadap harga rumah tiap tahunnya dapat digunakan uji One-way Anova, namun uji tersebut memiliki asumsi bahwa data yang diuji berdistribusi normal. Maka dari itu, digunakan uji Kruskal-Wallis yang memiliki tujuan yang sama namun data yang diuji tidak diasumsikan berdistribusi normal.\n",
    "\n",
    "Hipotesis untuk uji Kruskal-Wallis : <br>\n",
    "H0 : Median harga rumah tidak berbeda signifikan untuk setiap tahunnya <br>\n",
    "H1 : Median harga rumah berbeda signifikan dengan salah satu atau banyak tahun lainnya <br>"
   ]
  },
  {
   "cell_type": "code",
   "execution_count": null,
   "id": "d76f8ab4",
   "metadata": {},
   "outputs": [
    {
     "data": {
      "text/plain": [
       "KruskalResult(statistic=1.645903303251481, pvalue=0.800519267418441)"
      ]
     },
     "execution_count": 206,
     "metadata": {},
     "output_type": "execute_result"
    }
   ],
   "source": [
    "# melakukan uji hipotesis menggunakan uji Kruskal-Wallis\n",
    "kruskal = st.kruskal(df_2006['SalePrice'],\n",
    "                    df_2007['SalePrice'],\n",
    "                    df_2008['SalePrice'],\n",
    "                    df_2009['SalePrice'],\n",
    "                    df_2010['SalePrice'])\n",
    "kruskal"
   ]
  },
  {
   "cell_type": "code",
   "execution_count": null,
   "id": "dbf454c4",
   "metadata": {},
   "outputs": [
    {
     "name": "stdout",
     "output_type": "stream",
     "text": [
      "P-value dari uji Kruskal-Wallis adalah 0.800519267418441\n"
     ]
    }
   ],
   "source": [
    "# mengambil p-value dari uji Kruskal-Wallis\n",
    "p_value = kruskal.pvalue\n",
    "print(f'P-value dari uji Kruskal-Wallis adalah {p_value}')"
   ]
  },
  {
   "cell_type": "code",
   "execution_count": null,
   "id": "f62312b2",
   "metadata": {},
   "outputs": [
    {
     "name": "stdout",
     "output_type": "stream",
     "text": [
      "Terima H0, tidak cukup bukti untuk menyatakan bahwa median harga rumah berbeda signinfikan tiap tahunnya\n"
     ]
    }
   ],
   "source": [
    "# mengambil kesimpulan hasil uji Kruskal-Wallis\n",
    "if p_value >= 0.05:\n",
    "    print('Terima H0, tidak cukup bukti untuk menyatakan bahwa median harga rumah berbeda signinfikan tiap tahunnya')\n",
    "else:\n",
    "    print('Tolak H0, Terima H1, cukup bukti untuk menyatakan bahwa median harga rumah berbeda signifikan tiap tahunnya')"
   ]
  },
  {
   "cell_type": "markdown",
   "id": "4866b2dc",
   "metadata": {},
   "source": [
    "Hasil dari uji Kruskal-Wallis yaitu p-value lebih besar dari 0.05 sehingga resiko terlalu tinggi untuk menyatakan bahwa terdapat perbedaan yang signifikan antara median harga rumah tiap tahunnya. \n",
    "\n",
    "Kesimpulan dari uji hipotesis di atas adalah bahwa harga rumah tiap tahun tidak  mengalami kenaikan yang signifikan."
   ]
  },
  {
   "cell_type": "markdown",
   "id": "3eacb89c",
   "metadata": {},
   "source": [
    "# 5.\n",
    "Kasus yang akan digunakan adalah membuka akun deposit untuk\n",
    "nasabah bank. \n",
    "\n",
    "Pada kesempatan kali ini data scientist diminta tolong\n",
    "untuk menganalisa hasil ab-testing suatu perusahaan bank. \n",
    "\n",
    "Apakah\n",
    "jumlah campaign mampu meningkatkan keinginan user untuk\n",
    "membuka akun deposit atau tidak?\n",
    "\n",
    "Data yang digunakan berasal dari folder bank.zip file yang digunakan\n",
    "adalah bank-full.csv\n",
    "1. Untuk variabel jumlah campaign bisa dicek untuk kolom\n",
    "campaign\n",
    "2. untuk variabel apakah akhirnya user membuka akun atau tidak\n",
    "bisa menggunakan variabel y"
   ]
  },
  {
   "cell_type": "markdown",
   "id": "a9ebbb60",
   "metadata": {},
   "source": [
    "1. Pemahaman konsep A/B Testing (5 poin) <br>\n",
    "a. Apa nama experimentnya? <br>\n",
    "A/B Test Jumlah Campaign Terhadap Potensi Nasabah Deposito<br><br>\n",
    "b. Definisikan Hipotesis:  <br>\n",
    "Jumlah campaign mempengaruhi peningkatan jumlah akun deposito baru<br><br>\n",
    "c. Siapa participant-nya? <br>\n",
    "Nasabah yang menjadi target campaign <br><br>\n",
    "d. Variabel yang akan diuji apa? <br>\n",
    "Jumlah campaign yang diberikan <br><br>\n",
    "e. Metrics apa yang akan digunakan? <br>\n",
    "Jumlah akun deposito baru <br><br>\n",
    "f. Berapa sample size dan durasi experiment?<br>\n",
    "Dengan menggunakan rumus Slovin didapatkan jumlah sampel 396.5 atau dibulatkan menjadi 398<br>\n",
    "Durasi eksperimen dapat diestimasikan selama satu minggu semenjak data diterima<br>\n",
    "\n"
   ]
  },
  {
   "cell_type": "markdown",
   "id": "276aaa39",
   "metadata": {},
   "source": [
    "2. Pengujian Hipotesis (5 poin)<br>\n",
    "b. Penentuan hipotesis<br>\n",
    "H0: Jumlah campaign tidak mempengaruhi peningkatan nasabah deposito baru<br>\n",
    "H1: Jumlah campaign mempengaruhi peningkatan nasabah deposito baru <br><br>\n",
    "c. Pengujian yang digunakan<br>\n",
    "Pengujian hipotesis menggunakan Uji t yang bertujuan untuk membandingkan rata-rata antara dua kelompok<br><br>\n",
    "d. Deteksi asumsi beserta cara penanganannya<br>\n",
    "Asumsi yang digunakan pada uji t menggunakan distribusi normal atau sampel berjumlah banyak (CLT)<br><br>\n",
    "Adapun penanganan data yang belum berdistribusi normal dapat menggunakan alternatif:<br> \n",
    "Menghapus data outlier, melakukan transformasi data menggunakan log data dsb<br>\n",
    "Alternatif lainnya yaitu dengan  mengganti jenis pengujian yang digunakan dengan metode non parametrik.<br><br>\n",
    "e. Hasil pengujian hipotesis<br>\n",
    "Hasil p-value dari Uji T yaitu 0.013781375347676447 <br><br>\n",
    "f. Kesimpulan dan interpretasi <br>\n",
    "Kesimpulan dari hasil Uji T yaitu p-value lebih kecil dari 0.05 sehingga tedapat cukup bukti untuk meyatakan bahwa terdapat perbedaan yang signifikan antara rata-rata jumlah campaign nasabah yang membuka deposito dengan yang tidak. <br>\n",
    "Sehingga dari uji hipotesis di atas dapat dibuktikan bahwa jumlah campaign dapat meningkatkan jumlah nasabah deposito baru."
   ]
  },
  {
   "cell_type": "code",
   "execution_count": 44,
   "id": "15ef5ad5",
   "metadata": {},
   "outputs": [
    {
     "data": {
      "text/html": [
       "<div>\n",
       "<style scoped>\n",
       "    .dataframe tbody tr th:only-of-type {\n",
       "        vertical-align: middle;\n",
       "    }\n",
       "\n",
       "    .dataframe tbody tr th {\n",
       "        vertical-align: top;\n",
       "    }\n",
       "\n",
       "    .dataframe thead th {\n",
       "        text-align: right;\n",
       "    }\n",
       "</style>\n",
       "<table border=\"1\" class=\"dataframe\">\n",
       "  <thead>\n",
       "    <tr style=\"text-align: right;\">\n",
       "      <th></th>\n",
       "      <th>age</th>\n",
       "      <th>job</th>\n",
       "      <th>marital</th>\n",
       "      <th>education</th>\n",
       "      <th>default</th>\n",
       "      <th>balance</th>\n",
       "      <th>housing</th>\n",
       "      <th>loan</th>\n",
       "      <th>contact</th>\n",
       "      <th>day</th>\n",
       "      <th>month</th>\n",
       "      <th>duration</th>\n",
       "      <th>campaign</th>\n",
       "      <th>pdays</th>\n",
       "      <th>previous</th>\n",
       "      <th>poutcome</th>\n",
       "      <th>y</th>\n",
       "    </tr>\n",
       "  </thead>\n",
       "  <tbody>\n",
       "    <tr>\n",
       "      <th>6245</th>\n",
       "      <td>51</td>\n",
       "      <td>management</td>\n",
       "      <td>married</td>\n",
       "      <td>tertiary</td>\n",
       "      <td>no</td>\n",
       "      <td>0</td>\n",
       "      <td>no</td>\n",
       "      <td>no</td>\n",
       "      <td>unknown</td>\n",
       "      <td>27</td>\n",
       "      <td>may</td>\n",
       "      <td>68</td>\n",
       "      <td>5</td>\n",
       "      <td>-1</td>\n",
       "      <td>0</td>\n",
       "      <td>unknown</td>\n",
       "      <td>no</td>\n",
       "    </tr>\n",
       "    <tr>\n",
       "      <th>11468</th>\n",
       "      <td>47</td>\n",
       "      <td>retired</td>\n",
       "      <td>divorced</td>\n",
       "      <td>secondary</td>\n",
       "      <td>no</td>\n",
       "      <td>0</td>\n",
       "      <td>no</td>\n",
       "      <td>no</td>\n",
       "      <td>unknown</td>\n",
       "      <td>19</td>\n",
       "      <td>jun</td>\n",
       "      <td>141</td>\n",
       "      <td>1</td>\n",
       "      <td>-1</td>\n",
       "      <td>0</td>\n",
       "      <td>unknown</td>\n",
       "      <td>no</td>\n",
       "    </tr>\n",
       "    <tr>\n",
       "      <th>44459</th>\n",
       "      <td>29</td>\n",
       "      <td>admin.</td>\n",
       "      <td>single</td>\n",
       "      <td>tertiary</td>\n",
       "      <td>no</td>\n",
       "      <td>-197</td>\n",
       "      <td>no</td>\n",
       "      <td>no</td>\n",
       "      <td>unknown</td>\n",
       "      <td>6</td>\n",
       "      <td>aug</td>\n",
       "      <td>47</td>\n",
       "      <td>1</td>\n",
       "      <td>-1</td>\n",
       "      <td>0</td>\n",
       "      <td>unknown</td>\n",
       "      <td>no</td>\n",
       "    </tr>\n",
       "  </tbody>\n",
       "</table>\n",
       "</div>"
      ],
      "text/plain": [
       "       age         job   marital  education default  balance housing loan  \\\n",
       "6245    51  management   married   tertiary      no        0      no   no   \n",
       "11468   47     retired  divorced  secondary      no        0      no   no   \n",
       "44459   29      admin.    single   tertiary      no     -197      no   no   \n",
       "\n",
       "       contact  day month  duration  campaign  pdays  previous poutcome   y  \n",
       "6245   unknown   27   may        68         5     -1         0  unknown  no  \n",
       "11468  unknown   19   jun       141         1     -1         0  unknown  no  \n",
       "44459  unknown    6   aug        47         1     -1         0  unknown  no  "
      ]
     },
     "execution_count": 44,
     "metadata": {},
     "output_type": "execute_result"
    }
   ],
   "source": [
    "# melihat data dari file csv\n",
    "df5 = pd.read_csv('/Users/salsa/Data Science/DS-31/Week 7/HW/bank/bank-full.csv',sep=';')\n",
    "df5.sample(3)"
   ]
  },
  {
   "cell_type": "code",
   "execution_count": 45,
   "id": "60384481",
   "metadata": {},
   "outputs": [
    {
     "data": {
      "text/plain": [
       "False"
      ]
     },
     "execution_count": 45,
     "metadata": {},
     "output_type": "execute_result"
    }
   ],
   "source": [
    "# melihat data duplikat\n",
    "df5.duplicated().any()"
   ]
  },
  {
   "cell_type": "code",
   "execution_count": 46,
   "id": "f791b805",
   "metadata": {},
   "outputs": [
    {
     "data": {
      "text/plain": [
       "(45211, 17)"
      ]
     },
     "execution_count": 46,
     "metadata": {},
     "output_type": "execute_result"
    }
   ],
   "source": [
    "# melihat ukuran data\n",
    "df5.shape"
   ]
  },
  {
   "cell_type": "code",
   "execution_count": 92,
   "id": "3efdf66b",
   "metadata": {},
   "outputs": [
    {
     "data": {
      "text/plain": [
       "count    45211.000000\n",
       "mean         2.763841\n",
       "std          3.098021\n",
       "min          1.000000\n",
       "25%          1.000000\n",
       "50%          2.000000\n",
       "75%          3.000000\n",
       "93%          6.000000\n",
       "max         63.000000\n",
       "Name: campaign, dtype: float64"
      ]
     },
     "execution_count": 92,
     "metadata": {},
     "output_type": "execute_result"
    }
   ],
   "source": [
    "# melihat statistik deskriptif kolom campaign\n",
    "df5.campaign.describe(percentiles=[0.25, 0.5, 0.75, 0.93])"
   ]
  },
  {
   "cell_type": "code",
   "execution_count": 84,
   "id": "d4d3ee87",
   "metadata": {},
   "outputs": [
    {
     "data": {
      "image/png": "[encoded data removed]",
      "text/plain": [
       "<Figure size 900x200 with 1 Axes>"
      ]
     },
     "metadata": {},
     "output_type": "display_data"
    }
   ],
   "source": [
    "# melihat boxplot dari data kolom campaign\n",
    "plt.figure(figsize=(9,2))\n",
    "sns.boxplot(data=df5, x='campaign')\n",
    "plt.show()"
   ]
  },
  {
   "cell_type": "markdown",
   "id": "d3e03667",
   "metadata": {},
   "source": [
    "* Rata-rata jumlah campaign pada data adalah 2.76 yangmana nilai tersebut lebih besar dibandingkan dengan nilai median yang hanya bernilai 2. <br>\n",
    "Hal ini menunjukkan bahwa jumlah campaign memiliki distribusi melenceng ke kanan (positively skewed distribution). \n",
    "\n",
    "* Dari statistik deskriptif juga didapatkan bahwa sebanyak 75% data memiliki jumlah campaign kurang dari sama dengan 3.\n",
    "\n",
    "* Pada boxplot di atas dapat disimpulkan bahwa jumlah campaign di atas 6 merupakan data outlier. <br>\n",
    "Adapun 93% jumlah campaign memiliki nilai dibawah atau sama dengan 6. <br>\n",
    "Dengan kata lain, terdapat sekitar 7% data yang dianggap outlier."
   ]
  },
  {
   "cell_type": "code",
   "execution_count": 102,
   "id": "9fa809e1",
   "metadata": {},
   "outputs": [
    {
     "data": {
      "image/png": "[encoded data removed]",
      "text/plain": [
       "<Figure size 640x480 with 1 Axes>"
      ]
     },
     "metadata": {},
     "output_type": "display_data"
    }
   ],
   "source": [
    "# melihat perbandingan rata-rata campaign nasabah yang membuka deposito dan tidak dalam barplot\n",
    "sns.barplot(data=df5,x='y', y='campaign')\n",
    "plt.show()"
   ]
  },
  {
   "cell_type": "code",
   "execution_count": 48,
   "id": "ff1456ad",
   "metadata": {},
   "outputs": [
    {
     "data": {
      "text/plain": [
       "no     39922\n",
       "yes     5289\n",
       "Name: y, dtype: int64"
      ]
     },
     "execution_count": 48,
     "metadata": {},
     "output_type": "execute_result"
    }
   ],
   "source": [
    "# melihat statistik deskriptif kolom y\n",
    "df5.y.value_counts()"
   ]
  },
  {
   "cell_type": "code",
   "execution_count": 96,
   "id": "7d31e477",
   "metadata": {},
   "outputs": [],
   "source": [
    "# membuat data frame untuk nasabah yang membuka deposito dan tidak\n",
    "df_yes = df5[df5['y'] == 'yes']\n",
    "df_no = df5[df5['y'] == 'no']"
   ]
  },
  {
   "cell_type": "code",
   "execution_count": 101,
   "id": "1615dc02",
   "metadata": {},
   "outputs": [
    {
     "name": "stdout",
     "output_type": "stream",
     "text": [
      "Rata-rata jumlah campaign nasabah yang membuka deposito adalah  2.1410474569861977\n",
      "Rata-rata jumlah campaign nasabah yang tidak membuka deposito adalah  2.8463503832473322\n"
     ]
    }
   ],
   "source": [
    "# melihat perbandingan rata-rata campaign nasabah yang membuka deposito dan tidak\n",
    "print('Rata-rata jumlah campaign nasabah yang membuka deposito adalah ', df_yes.campaign.mean())\n",
    "print('Rata-rata jumlah campaign nasabah yang tidak membuka deposito adalah ', df_no.campaign.mean())"
   ]
  },
  {
   "cell_type": "code",
   "execution_count": 59,
   "id": "d3859d56",
   "metadata": {},
   "outputs": [
    {
     "name": "stderr",
     "output_type": "stream",
     "text": [
      "/var/folders/h_/t8q0dbkj58q06lf9n79sjt2r0000gn/T/ipykernel_1007/3702230051.py:2: UserWarning: \n",
      "\n",
      "`distplot` is a deprecated function and will be removed in seaborn v0.14.0.\n",
      "\n",
      "Please adapt your code to use either `displot` (a figure-level function with\n",
      "similar flexibility) or `histplot` (an axes-level function for histograms).\n",
      "\n",
      "For a guide to updating your code to use the new functions, please see\n",
      "https://gist.github.com/mwaskom/de44147ed2974457ad6372750bbe5751\n",
      "\n",
      "  sns.distplot(df_yes['campaign'], label='yes')\n",
      "/var/folders/h_/t8q0dbkj58q06lf9n79sjt2r0000gn/T/ipykernel_1007/3702230051.py:3: UserWarning: \n",
      "\n",
      "`distplot` is a deprecated function and will be removed in seaborn v0.14.0.\n",
      "\n",
      "Please adapt your code to use either `displot` (a figure-level function with\n",
      "similar flexibility) or `histplot` (an axes-level function for histograms).\n",
      "\n",
      "For a guide to updating your code to use the new functions, please see\n",
      "https://gist.github.com/mwaskom/de44147ed2974457ad6372750bbe5751\n",
      "\n",
      "  sns.distplot(df_no['campaign'], label='no')\n"
     ]
    },
    {
     "data": {
      "image/png": "[encoded data removed]",
      "text/plain": [
       "<Figure size 640x480 with 1 Axes>"
      ]
     },
     "metadata": {},
     "output_type": "display_data"
    }
   ],
   "source": [
    "# melihat distribusi jumlah campaign untuk nasabah yang membuka deposito dan tidak\n",
    "sns.distplot(df_yes['campaign'], label='yes')\n",
    "sns.distplot(df_no['campaign'], label='no')\n",
    "plt.legend()\n",
    "plt.show()"
   ]
  },
  {
   "cell_type": "code",
   "execution_count": 58,
   "id": "e0599277",
   "metadata": {},
   "outputs": [
    {
     "name": "stdout",
     "output_type": "stream",
     "text": [
      "Ukuran sampel yang digunakan berdasarkan rumus slovin adalah 396.4920742803271, atau dibulatkan menjadi 398 sampel\n"
     ]
    }
   ],
   "source": [
    "# menghitung ukuran sample menggunakan rumus slovin\n",
    "N = 45211\n",
    "e = 0.05\n",
    "\n",
    "slovin = N/(1+N * e**2)\n",
    "print(f'Ukuran sampel yang digunakan berdasarkan rumus slovin adalah {slovin}, atau dibulatkan menjadi 398 sampel')"
   ]
  },
  {
   "cell_type": "code",
   "execution_count": 56,
   "id": "2c7f2006",
   "metadata": {},
   "outputs": [
    {
     "name": "stderr",
     "output_type": "stream",
     "text": [
      "/var/folders/h_/t8q0dbkj58q06lf9n79sjt2r0000gn/T/ipykernel_1007/1477175700.py:6: FutureWarning: In a future version of pandas all arguments of concat except for the argument 'objs' will be keyword-only.\n",
      "  df5_sample = pd.concat([sample_yes, sample_no],0)\n"
     ]
    },
    {
     "data": {
      "text/plain": [
       "yes    199\n",
       "no     199\n",
       "Name: y, dtype: int64"
      ]
     },
     "execution_count": 56,
     "metadata": {},
     "output_type": "execute_result"
    }
   ],
   "source": [
    "# membuat sample dengan probabilitas dan random state\n",
    "sample_yes = df_yes.sample(199, random_state=123) \n",
    "sample_no = df_no.sample(199, random_state=123) \n",
    "\n",
    "# melakukan merging data frame sample_yes dan sample_no\n",
    "df5_sample = pd.concat([sample_yes, sample_no],0)\n",
    "df5_sample.y.value_counts()"
   ]
  },
  {
   "cell_type": "code",
   "execution_count": 63,
   "id": "7f3c086e",
   "metadata": {},
   "outputs": [
    {
     "name": "stderr",
     "output_type": "stream",
     "text": [
      "/var/folders/h_/t8q0dbkj58q06lf9n79sjt2r0000gn/T/ipykernel_1007/3446240148.py:2: UserWarning: \n",
      "\n",
      "`distplot` is a deprecated function and will be removed in seaborn v0.14.0.\n",
      "\n",
      "Please adapt your code to use either `displot` (a figure-level function with\n",
      "similar flexibility) or `histplot` (an axes-level function for histograms).\n",
      "\n",
      "For a guide to updating your code to use the new functions, please see\n",
      "https://gist.github.com/mwaskom/de44147ed2974457ad6372750bbe5751\n",
      "\n",
      "  sns.distplot(sample_yes['campaign'], label='yes')\n",
      "/var/folders/h_/t8q0dbkj58q06lf9n79sjt2r0000gn/T/ipykernel_1007/3446240148.py:3: UserWarning: \n",
      "\n",
      "`distplot` is a deprecated function and will be removed in seaborn v0.14.0.\n",
      "\n",
      "Please adapt your code to use either `displot` (a figure-level function with\n",
      "similar flexibility) or `histplot` (an axes-level function for histograms).\n",
      "\n",
      "For a guide to updating your code to use the new functions, please see\n",
      "https://gist.github.com/mwaskom/de44147ed2974457ad6372750bbe5751\n",
      "\n",
      "  sns.distplot(sample_no['campaign'], label='no')\n"
     ]
    },
    {
     "data": {
      "image/png": "[encoded data removed]",
      "text/plain": [
       "<Figure size 640x480 with 1 Axes>"
      ]
     },
     "metadata": {},
     "output_type": "display_data"
    }
   ],
   "source": [
    "# melihat distribusi jumlah campaign untuk nasabah yang membuka deposito dan tidak pada data sampel\n",
    "sns.distplot(sample_yes['campaign'], label='yes')\n",
    "sns.distplot(sample_no['campaign'], label='no')\n",
    "plt.legend()\n",
    "plt.show()"
   ]
  },
  {
   "cell_type": "code",
   "execution_count": 73,
   "id": "fac44558",
   "metadata": {},
   "outputs": [
    {
     "name": "stdout",
     "output_type": "stream",
     "text": [
      "Nilai mean sample_yes adalah 2.2814070351758793\n",
      "Nilai mean sample_no adalah 3.201005025125628\n"
     ]
    }
   ],
   "source": [
    "# menghitung mean data sample_yes dan sample_no\n",
    "print('Nilai mean sample_yes adalah',sample_yes.campaign.mean())\n",
    "print('Nilai mean sample_no adalah', sample_no.campaign.mean())"
   ]
  },
  {
   "cell_type": "markdown",
   "id": "100e1271",
   "metadata": {},
   "source": [
    "Pengujian hipotesis menggunakan Uji t yang bertujuan untuk membandingkan rata-rata antara dua kelompok <br><br>\n",
    "Asumsi yang digunakan pada uji t menggunakan distribusi normal atau sampel berjumlah banyak (CLT)<br><br>\n",
    "Adapun penanganan data yang belum berdistribusi normal dapat menggunakan alternatif:<br> \n",
    "Menghapus data outlier, melakukan transformasi data menggunakan log data, dsb<br>"
   ]
  },
  {
   "cell_type": "code",
   "execution_count": 109,
   "id": "803543d4",
   "metadata": {},
   "outputs": [
    {
     "data": {
      "image/png": "[encoded data removed]",
      "text/plain": [
       "<Figure size 500x500 with 1 Axes>"
      ]
     },
     "metadata": {},
     "output_type": "display_data"
    }
   ],
   "source": [
    "# melakukan transformasi data menggunakan data log\n",
    "log_sample_yes = np.log(sample_yes['campaign'])\n",
    "log_sample_no = np.log(sample_no['campaign'])\n",
    "\n",
    "# melihat distribusi data transformasi log\n",
    "plt.figure(figsize = (5,5))\n",
    "plt.hist(log_sample_yes, label='sample_yes')\n",
    "plt.hist(log_sample_no, label='sample_no')\n",
    "plt.legend()\n",
    "plt.show()"
   ]
  },
  {
   "cell_type": "markdown",
   "id": "242d5326",
   "metadata": {},
   "source": [
    "Setelah data dilakukan transformasi menggunakan data log, tidak didapatkan juga data yang terdistribusi secara normal. \n",
    "\n",
    "Sehingga diputuskan untuk melakukan uji hipotesis menggunakan data yang tidak ditransformasi dengan mengambil asumsi bahwa data sampel yang digunakan memiliki jumlah yang cukup banyak <br>\n",
    "serta memenuhi teori Central Limit Theorem (CLT)"
   ]
  },
  {
   "cell_type": "code",
   "execution_count": 104,
   "id": "280fd151",
   "metadata": {},
   "outputs": [
    {
     "name": "stdout",
     "output_type": "stream",
     "text": [
      "Nilai p-value pada uji T yang dilakukan adalah sebesar 0.013781375347676447\n"
     ]
    }
   ],
   "source": [
    "# melakukan uji T pada data sampel\n",
    "from scipy.stats import ttest_ind\n",
    "stat, p_value = ttest_ind(sample_yes.campaign, sample_no.campaign)\n",
    "print(f'Nilai p-value pada uji T yang dilakukan adalah sebesar {p_value}')"
   ]
  },
  {
   "cell_type": "code",
   "execution_count": 110,
   "id": "b3f81ee6",
   "metadata": {},
   "outputs": [
    {
     "name": "stdout",
     "output_type": "stream",
     "text": [
      "Tolak H0, Terima H1, cukup bukti untuk menyatakan bahwa rata-rata jumlah campaign berpengaruh terhadap peningkatan nasabah deposito baru\n"
     ]
    }
   ],
   "source": [
    "# hasil uji T pada sampel\n",
    "if p_value >= 0.05:\n",
    "    print('Terima H0, tidak cukup bukti untuk menyatakan bahwa rata-rata jumlah campaign berpengaruh terhadap peningkatan nasabah deposito baru')\n",
    "else:\n",
    "    print('Tolak H0, Terima H1, cukup bukti untuk menyatakan bahwa rata-rata jumlah campaign berpengaruh terhadap peningkatan nasabah deposito baru')"
   ]
  },
  {
   "cell_type": "markdown",
   "id": "36d4fc88",
   "metadata": {},
   "source": [
    "Hasil dari Uji T yaitu p-value lebih kecil dari 0.05 sehingga tedapat cukup bukti untuk meyatakan bahwa terdapat perbedaan yang signifikan antara rata-rata jumlah campaign nasabah yang membuka deposito dengan yang tidak. \n",
    "\n",
    "Sehingga kesimpulan dari uji hipotesis di atas adalah bahwa jumlah campaign dapat meningkatkan jumlah nasabah deposito baru."
   ]
  }
 ],
 "metadata": {
  "kernelspec": {
   "display_name": "Python 3 (ipykernel)",
   "language": "python",
   "name": "python3"
  },
  "language_info": {
   "codemirror_mode": {
    "name": "ipython",
    "version": 3
   },
   "file_extension": ".py",
   "mimetype": "text/x-python",
   "name": "python",
   "nbconvert_exporter": "python",
   "pygments_lexer": "ipython3",
   "version": "3.9.13"
  },
  "vscode": {
   "interpreter": {
    "hash": "aee8b7b246df8f9039afb4144a1f6fd8d2ca17a180786b69acc140d282b71a49"
   }
  }
 },
 "nbformat": 4,
 "nbformat_minor": 5
}

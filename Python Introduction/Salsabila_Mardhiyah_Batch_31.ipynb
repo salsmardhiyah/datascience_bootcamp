{
 "cells": [
  {
   "cell_type": "markdown",
   "metadata": {
    "heading_collapsed": true,
    "id": "IQZPHNVGE0jj"
   },
   "source": [
    "# Homework Introduction to Python"
   ]
  },
  {
   "cell_type": "markdown",
   "metadata": {
    "hidden": true,
    "id": "yKMR8ypqE0jn"
   },
   "source": [
    "$\\textbf{Ubah nama di bawah yaa!}$"
   ]
  },
  {
   "cell_type": "markdown",
   "metadata": {
    "hidden": true,
    "id": "bQ7VJlKEE0jo"
   },
   "source": [
    "- Nama: Salsabila Mardhiyah"
   ]
  },
  {
   "cell_type": "code",
   "execution_count": 1,
   "metadata": {
    "ExecuteTime": {
     "end_time": "2020-11-12T13:26:22.209983Z",
     "start_time": "2020-11-12T13:26:21.360470Z"
    },
    "hidden": true,
    "id": "4g2oLkevE0jo"
   },
   "outputs": [],
   "source": [
    "import numpy as np\n",
    "\n",
    "# please import as much as you need"
   ]
  },
  {
   "cell_type": "markdown",
   "metadata": {
    "id": "cgd-tTOjE0jr"
   },
   "source": [
    "# Normal"
   ]
  },
  {
   "cell_type": "markdown",
   "metadata": {
    "heading_collapsed": true,
    "id": "ed8OiWGeE0jr"
   },
   "source": [
    "## 1. Operasi Variabel\n",
    "\n",
    "> Misal kita memiliki toko sepatu. Modal membeli 1 kodi sepatu adalah Rp 1.000.000. Setiap sepatu dijual seharga Rp 80.000. Buatlah variabel modal, kuantitas, dan harga_jual sesuai informasi di atas. Hitung profit yang didapatkan jika semua sepatu berhasil terjual, dan masukkan ke variabel profit.\n",
    "\n",
    "Saran langkah-langkah pengerjaan\n",
    "1. Convert terlebih dahulu kodi dalam jumlah barang (1 kodi = xyz buah sepatu)\n",
    "2. Gunakan operasi matematika sederhana untuk menghitung profit menggunakan tiga buah variabel yang sudah ditentukan"
   ]
  },
  {
   "cell_type": "code",
   "execution_count": 63,
   "metadata": {
    "ExecuteTime": {
     "end_time": "2021-10-23T10:20:16.843127Z",
     "start_time": "2021-10-23T10:20:16.835236Z"
    },
    "hidden": true,
    "id": "ThOB9tEME0js",
    "scrolled": true
   },
   "outputs": [
    {
     "name": "stdout",
     "output_type": "stream",
     "text": [
      "profit yang didapatkan: 600000\n"
     ]
    }
   ],
   "source": [
    "# your code goes here!\n",
    "\n",
    "modal = 1000000 #modal 1 kodi sepatu\n",
    "kuantitas = 20 #1 kodi = 20 sepatu\n",
    "harga_jual = 80000 #harga per sepatu\n",
    "profit = harga_jual * kuantitas - modal\n",
    "print('profit yang didapatkan:', profit)"
   ]
  },
  {
   "cell_type": "markdown",
   "metadata": {
    "hidden": true,
    "id": "8GaDbS89E0js"
   },
   "source": [
    "Jadi, dari profit di atas, dapat disimpulkan bahwa profit yang didapatkan: 600000"
   ]
  },
  {
   "cell_type": "markdown",
   "metadata": {
    "id": "5oTZCAI4E0ju"
   },
   "source": [
    "## 2. Package Python dan Dictionary\n",
    "\n",
    "> Kita akan coba mengakses data scientific article dari PLOS corpus\n",
    "    Menggunakan API request dengan kode berikut : \n",
    "```\n",
    "import requests\n",
    "response = requests.get('http://api.plos.org/search?q=title:\"Drosophila\" AND body:\"RNA\"&fl=id,abstract')\n",
    "```\n",
    "**perhatikan tanda kutipnya tidak salah ketika meng-copy ke dalam python\n",
    "\n",
    "Pertanyaannya : \n",
    "Convert response.content dari request tersebut dari JSON Format ke dalam Dictionary, dan print-kan key di dalamnya apa saja\n",
    "\n",
    "Saran langkah-langkah pengerjaan\n",
    "1. Ikuti code dari soal, kemudian ekstrak value dari variable response menggunakan dot (.) content menjadi sebuah variabel baru (dictionary)\n",
    "2. Gunakan library json, convert hasil content menggunakan json.loads\n",
    "3. Print keys dari dictionary tersebut\n"
   ]
  },
  {
   "cell_type": "code",
   "execution_count": 62,
   "metadata": {
    "ExecuteTime": {
     "end_time": "2021-10-23T10:20:40.890513Z",
     "start_time": "2021-10-23T10:20:40.882963Z"
    },
    "id": "RY1kdZAUE0ju"
   },
   "outputs": [
    {
     "name": "stdout",
     "output_type": "stream",
     "text": [
      "dict_keys(['response'])\n"
     ]
    }
   ],
   "source": [
    "# your code goes here!\n",
    "\n",
    "import requests\n",
    "response = requests.get('http://api.plos.org/search?q=title:\"Drosophila\" AND body:\"RNA\"&fl=id,abstract')\n",
    "\n",
    "# ekstrak value dari variable response menjadi sebuah variabel baru (dictionary)\n",
    "dictionary = response.content\n",
    "\n",
    "# convert hasil content menggunakan json.loads\n",
    "import json\n",
    "dictionary2 = json.loads(dictionary)\n",
    "\n",
    "# Print keys dari dictionary tersebut\n",
    "print(dictionary2.keys())"
   ]
  },
  {
   "cell_type": "markdown",
   "metadata": {
    "id": "rvQnd_NgE0jv"
   },
   "source": [
    "Jadi, dari url link di atas, kami menyimpulkan bahwa memiliki keys ['response']"
   ]
  },
  {
   "cell_type": "markdown",
   "metadata": {
    "id": "wWstgpwIPDwR"
   },
   "source": [
    "# Intermediate"
   ]
  },
  {
   "cell_type": "markdown",
   "metadata": {
    "id": "AI0lJNgDE0jv"
   },
   "source": [
    "## 3. Operasi dalam List\n",
    "\n",
    "> Buatlah list dengan 10 nama kota di indonesia, kemudian:\n",
    "1. Urutkan nama kota di dalam list berdasarkan abjad (a)\n",
    "2. Ambil 4 kota pertama dari list tersebut (yang telah diurutkan) (b)\n",
    "3. Ambil 3 kota terakhir dari list tersebut (yang telah diurutkan) (c)\n",
    "\n",
    "Saran langkah-langkah pengerjaan\n",
    "1. Tidak ada ketentuan nama kota (misal berdasarkan provinsi X atau pulau Y), dibebaskan untuk memilih. Buat nama-nama kota tersebut dalam sebuah list.\n",
    "2. Gunakan fungsi sorted(X) untuk mengurutkan secara kecil-ke-besar (sesuai abjad), dimana X adalah contoh variabel list pada langkah (a)\n",
    "3. Gunakan hasil poin (a), urutkan nama kota di dalam list berdasarkan abjad, untuk mengerjakan poin (b) dan (c). "
   ]
  },
  {
   "cell_type": "code",
   "execution_count": 65,
   "metadata": {
    "ExecuteTime": {
     "end_time": "2021-10-23T10:20:47.306584Z",
     "start_time": "2021-10-23T10:20:47.299827Z"
    },
    "id": "piGxWfIAE0jw",
    "scrolled": true
   },
   "outputs": [
    {
     "name": "stdout",
     "output_type": "stream",
     "text": [
      "urutan abjad: ['Banjarmasin', 'Batam', 'Bintan', 'Buleleng', 'Gorontalo', 'Langsa', 'Makassar', 'Manggarai Barat', 'Padang Panjang', 'Sorong']\n",
      "4 kota pertama: ['Banjarmasin', 'Batam', 'Bintan', 'Buleleng']\n",
      "3 kota terakhir: ['Manggarai Barat', 'Padang Panjang', 'Sorong']\n"
     ]
    }
   ],
   "source": [
    "# your code goes here!\n",
    "\n",
    "# Buatlah list dengan 10 nama kota di indonesia\n",
    "visited = ['Sorong', 'Gorontalo', 'Makassar', 'Buleleng', 'Manggarai Barat', 'Langsa', 'Bintan', 'Banjarmasin', 'Batam', 'Padang Panjang']\n",
    "\n",
    "# 1. Urutkan nama kota di dalam list berdasarkan abjad (a)\n",
    "a = sorted(visited)\n",
    "print('urutan abjad:', a)\n",
    "\n",
    "# 2. Ambil 4 kota pertama dari list tersebut (yang telah diurutkan) (b)\n",
    "b = a[:4]\n",
    "print('4 kota pertama:', b)\n",
    "\n",
    "# 3. Ambil 3 kota terakhir dari list tersebut (yang telah diurutkan) (c)\n",
    "c = a[-3:]\n",
    "print('3 kota terakhir:', c)"
   ]
  },
  {
   "cell_type": "markdown",
   "metadata": {
    "id": "FpbGs5EaE0jw"
   },
   "source": [
    "Jadi, dari operasi list di atas, dapat disimpulkan bahwa \n",
    "- urutan abjad: ['Banjarmasin', 'Batam', 'Bintan', 'Buleleng', 'Gorontalo', 'Langsa', 'Makassar', 'Manggarai Barat', 'Padang Panjang', 'Sorong']\n",
    "- 4 kota pertama: ['Banjarmasin', 'Batam', 'Bintan', 'Buleleng']\n",
    "- 3 kota terakhir: ['Manggarai Barat', 'Padang Panjang', 'Sorong']"
   ]
  },
  {
   "cell_type": "markdown",
   "metadata": {
    "id": "6nanVjCCE0jx"
   },
   "source": [
    "## 4. Function dalam List\n",
    "\n",
    "> Team sales memiliki list total transaksi dari 10 merchant pada bulan Juni 2020, yaitu: \n",
    "```\n",
    "total_transaksi = [ 19, 35, 23, 25, 10, 15, 33, 45, 21, 30 ]\n",
    "```\n",
    "1. Trx minimum\n",
    "2. Rata-rata \n",
    "3. Trx maksimal\n",
    "\n",
    "Saran langkah-langkah pengerjaan\n",
    "1. Copy variabel total_transaksi yang ada di soal ke notebook kita (atau ketik ulang boleh)\n",
    "2. Kemudian, hitung menggunakan function operasi dalam list yang telah dipelajari di kelas pada topik list. Print hasilnya setiap poin (a), (b), dan (c)"
   ]
  },
  {
   "cell_type": "code",
   "execution_count": 70,
   "metadata": {
    "ExecuteTime": {
     "end_time": "2021-10-23T10:20:52.903045Z",
     "start_time": "2021-10-23T10:20:52.894900Z"
    },
    "id": "HxvjrB2RE0jx",
    "scrolled": true
   },
   "outputs": [
    {
     "name": "stdout",
     "output_type": "stream",
     "text": [
      "transaksi minimum: 10\n",
      "rata-rata transaksi: 25.6\n",
      "transaksi maksimal: 45\n"
     ]
    }
   ],
   "source": [
    "# your code goes here!\n",
    "\n",
    "total_transaksi = [ 19, 35, 23, 25, 10, 15, 33, 45, 21, 30 ]\n",
    "\n",
    "# 1. Trx minimum\n",
    "trx_minimum = min(total_transaksi)\n",
    "print('transaksi minimum:', trx_minimum)\n",
    "\n",
    "# 2. Rata-rata\n",
    "rata_rata = sum(total_transaksi) / len(total_transaksi)\n",
    "print('rata-rata transaksi:', rata_rata)\n",
    "\n",
    "# 3. Trx maksimal\n",
    "trx_maksimal = max(total_transaksi)\n",
    "print('transaksi maksimal:', trx_maksimal)\n"
   ]
  },
  {
   "cell_type": "markdown",
   "metadata": {
    "id": "UgHXbAOqE0jx"
   },
   "source": [
    "Jadi, dari hasil operasi list di atas, dapat disimpulkan bahwa \n",
    "- nilai minimal: 10\n",
    "- max: 45\n",
    "- rata-rata: 25.6"
   ]
  },
  {
   "cell_type": "markdown",
   "metadata": {
    "id": "f4EkwISgE0jx"
   },
   "source": [
    "# Advanced"
   ]
  },
  {
   "cell_type": "markdown",
   "metadata": {
    "id": "fmaX-pu5E0jy"
   },
   "source": [
    "## 5. NumPy Array\n",
    "\n",
    "> Buatlah array dari 5 bilangan ganjil pertama (dimulai dari 1), Kemudian lakukan perintah berikut : \n",
    "1. Kali-kan array tersebut dengan 10\n",
    "2. Bagi-kan array (hasil dari bagian a) dengan 3\n",
    "3. Kali-kan array (hasil dari bagian b) dengan array baru :\n",
    "`[-45, 43, 3, 56, 5]`\n",
    "4. Carilah pada index ke-berapa nilai tertinggi dan terendah dari array (hasil dari bagian c) \n",
    "\n",
    "Saran langkah-langkah pengerjaan\n",
    "1. HATI-HATI dalam pengerjaan, karena apabila poin sebelumnya salah, maka selanjutnya akan kebawa salah (misal (b) salah, maka poin (c) sampai (d) akan salah)\n",
    "2. Untuk array 5 bilangan ganjil pertama boleh manual boleh menggunakan fungsi, dimulai dari 1\n",
    "3. Ikuti perintah soal, gunakan numpy array, jangan list. Sesuaikan dengan permintaan soal pada setiap butir.\n",
    "\n"
   ]
  },
  {
   "cell_type": "code",
   "execution_count": 56,
   "metadata": {
    "ExecuteTime": {
     "end_time": "2021-10-23T10:20:59.988806Z",
     "start_time": "2021-10-23T10:20:59.980744Z"
    },
    "id": "VTTOjU8wE0jy",
    "scrolled": true
   },
   "outputs": [
    {
     "name": "stdout",
     "output_type": "stream",
     "text": [
      "[1 3 5 7 9]\n",
      "[10 30 50 70 90]\n",
      "[ 3.33333333 10.         16.66666667 23.33333333 30.        ]\n",
      "[-150.          430.           50.         1306.66666667  150.        ]\n",
      "index nilai tertinggi:  3\n",
      "index nilai terendah:  0\n"
     ]
    }
   ],
   "source": [
    "# your code goes here!\n",
    "\n",
    "# Buatlah array dari 5 bilangan ganjil pertama (dimulai dari 1)\n",
    "ganjil = np.arange(1, 10, 2)\n",
    "print(ganjil)\n",
    "\n",
    "# 1. Kali-kan array tersebut dengan 10\n",
    "a = ganjil * 10\n",
    "print(a)\n",
    "\n",
    "# 2. Bagi-kan array (hasil dari bagian a) dengan 3\n",
    "b = a / 3\n",
    "print(b)\n",
    "\n",
    "# 3. Kali-kan array (hasil dari bagian b) dengan array baru : [-45, 43, 3, 56, 5]\n",
    "c = b * np.array([-45, 43, 3, 56, 5])\n",
    "print(c)\n",
    "\n",
    "# 4. Carilah pada index ke-berapa nilai tertinggi dan terendah dari array (hasil dari bagian c)\n",
    "print('index nilai tertinggi: ', c.argmax())\n",
    "print('index nilai terendah: ', c.argmin())"
   ]
  },
  {
   "cell_type": "markdown",
   "metadata": {
    "id": "wTkMvK_EE0jy"
   },
   "source": [
    "Jadi, dari hasil operasi numpy di atas, dapat disimpulkan bahwa \n",
    "- index nilai tertinggi:  3 \n",
    "- index nilai terendah:  0"
   ]
  },
  {
   "cell_type": "markdown",
   "metadata": {
    "id": "LLIlxgN3Pmwj",
    "tags": []
   },
   "source": [
    "# Terimakasih, salam dari Bekasi 😀"
   ]
  }
 ],
 "metadata": {
  "colab": {
   "provenance": []
  },
  "kernelspec": {
   "display_name": "Python 3 (ipykernel)",
   "language": "python",
   "name": "python3"
  },
  "language_info": {
   "codemirror_mode": {
    "name": "ipython",
    "version": 3
   },
   "file_extension": ".py",
   "mimetype": "text/x-python",
   "name": "python",
   "nbconvert_exporter": "python",
   "pygments_lexer": "ipython3",
   "version": "3.9.13"
  },
  "toc": {
   "base_numbering": 1,
   "nav_menu": {},
   "number_sections": true,
   "sideBar": true,
   "skip_h1_title": false,
   "title_cell": "Table of Contents",
   "title_sidebar": "Contents",
   "toc_cell": false,
   "toc_position": {},
   "toc_section_display": true,
   "toc_window_display": true
  }
 },
 "nbformat": 4,
 "nbformat_minor": 4
}
